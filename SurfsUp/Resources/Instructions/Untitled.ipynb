{
 "cells": [
  {
   "cell_type": "code",
   "execution_count": 1,
   "id": "bab81252",
   "metadata": {},
   "outputs": [],
   "source": [
    "import pandas as pd\n",
    "import datetime as dt\n",
    "import sqlalchemy\n",
    "from sqlalchemy.ext.automap import automap_base\n",
    "from sqlalchemy.orm import Session\n",
    "from sqlalchemy import create_engine, func\n",
    "from flask import Flask, jsonify\n"
   ]
  },
  {
   "cell_type": "code",
   "execution_count": 2,
   "id": "dfc82e7d",
   "metadata": {},
   "outputs": [],
   "source": [
    "engine = create_engine(\"sqlite:///Resources/hawaii.sqlite\")\n",
    "Base = automap_base()\n",
    "Base.prepare(autoload_with=engine)\n",
    "measurement = Base.classes.measurement\n",
    "station = Base.classes.station"
   ]
  },
  {
   "cell_type": "code",
   "execution_count": 3,
   "id": "dccd2fea",
   "metadata": {},
   "outputs": [],
   "source": [
    "app = Flask(__name__)"
   ]
  },
  {
   "cell_type": "code",
   "execution_count": 4,
   "id": "b6dc7a6c",
   "metadata": {},
   "outputs": [],
   "source": [
    "@app.route(\"/\")\n",
    "def welcome():\n",
    "    \"\"\"List all available api routes.\"\"\"\n",
    "    return(\n",
    "        f\"Available Routes:<br/>\"\n",
    "        f'Look at the precipitaion data for the past year: /api/v1.0/precipitation <br/>'\n",
    "        f'Look at a list of the stations: /api/v1.0/stations <br/>'\n",
    "        f'Look at the temperature for the past year: /api/v1.0/tobs <br/>'\n",
    "        f'To find the min, max, and avg temperature from a certain date: /api/v1.0/YYYY-MM-DD <br/>'\n",
    "        f'To find the min, max, and avg temperature between specific dates: /api/v1.0/YYYY-MM-DD/YYYY-MM-DD'\n",
    "    )\n"
   ]
  },
  {
   "cell_type": "code",
   "execution_count": 5,
   "id": "547f5f47",
   "metadata": {},
   "outputs": [],
   "source": [
    "@app.route('/api/v1.0/precipitation')\n",
    "def precipitation():\n",
    "    \"\"\"Jsonify precipitation data for one year.\"\"\"\n",
    "    session = Session(engine)\n",
    "    #Find the most recent date\n",
    "    last_date = session.query(func.max(measurement.date)).scalar()\n",
    "    # Calculate the date one year from the last date in data set.\n",
    "    date_one_yr_ago_dt = dt.datetime.strptime(last_date, '%Y-%m-%d') - dt.timedelta(days=365)\n",
    "    query_date = date_one_yr_ago_dt.strftime('%Y-%m-%d')\n",
    "    # Perform a query to retrieve the date and precipitation scores\n",
    "    last_year = session.query(measurement.date, measurement.prcp).\\\n",
    "            filter(measurement.date >= query_date).all()\n",
    "    results = []\n",
    "    for date, prcp in last_year:\n",
    "        result_dict = {}\n",
    "        result_dict[\"date\"] = date\n",
    "        result_dict[\"prcp\"] = prcp\n",
    "        results.append(result_dict)\n",
    "    # Close Session\n",
    "    session.close()\n",
    "    # Return the results as a JSON dictionary\n",
    "    return jsonify(results)"
   ]
  },
  {
   "cell_type": "code",
   "execution_count": 6,
   "id": "f450011a",
   "metadata": {},
   "outputs": [],
   "source": [
    "@app.route('/api/v1.0/stations')\n",
    "def stations():\n",
    "    \"\"\"Jsonify a list of the stations\"\"\"\n",
    "    session = Session(engine)\n",
    "    results = session.query(station.station).all()\n",
    "    session.close()\n",
    "\n",
    "    station_list = [result[0] for result in results]\n",
    "    station_dict = {i: station_list[i] for i in range(0, len(station_list))}\n",
    "\n",
    "    return jsonify(station_dict)"
   ]
  },
  {
   "cell_type": "code",
   "execution_count": 7,
   "id": "8b2284c0",
   "metadata": {},
   "outputs": [],
   "source": [
    "@app.route('/api/v1.0/tobs')\n",
    "def tobs():\n",
    "    \"\"\"Return the temperatures from the most active station. \"\"\"\n",
    "    session = Session(engine)\n",
    "\n",
    "#Find the dates to query\n",
    "\n",
    "    latest_string = session.query(measurement.date).order_by(measurement.date.desc()).first()[0]\n",
    "    latest_date_tob = dt.datetime.strptime(latest_string, '%Y-%m-%d')\n",
    "    query_date_tob = dt.date(latest_date_tob.year -1, latest_date_tob.month, latest_date_tob.day)\n",
    "\n",
    "    active_stations = session.query(measurement.station,func.count(measurement.id)).\\\n",
    "        group_by(measurement.station).\\\n",
    "        order_by(func.count(measurement.id).desc()).first()\n",
    "    most_active = active_stations[0]\n",
    "    \n",
    "#Set up query to get temperature\n",
    "\n",
    "    query_result = session.query(measurement.date, measurement.tobs).\\\n",
    "        filter(measurement.date >= query_date_tob).\\\n",
    "        filter(measurement.station == most_active).all()\n",
    "    session.close()\n",
    "\n",
    "    temp_results = []\n",
    "\n",
    "    for date, tobs in query_result:\n",
    "        temp_dict = {}\n",
    "        temp_dict[\"date\"] = date\n",
    "        temp_dict[\"tobs\"] = tobs\n",
    "        temp_results.append(temp_dict)\n",
    "    return jsonify(temp_results)"
   ]
  },
  {
   "cell_type": "code",
   "execution_count": 8,
   "id": "4db3078a",
   "metadata": {},
   "outputs": [],
   "source": [
    "@app.route('/api/v1.0/<start>')\n",
    "def start(start):\n",
    "    \"\"\"Jsonify temperature data from a singular date.\"\"\"\n",
    "    session = Session(engine)\n",
    "    \n",
    "#Temp dictionaries and results to jsonify\n",
    "\n",
    "    start_date_temp_results = []\n",
    "    start_date_temp_dict = {}\n",
    "    \n",
    "#Find the max temperature\n",
    "\n",
    "    max_temp = session.query(func.max(measurement.tobs)).\\\n",
    "        filter(measurement.date >= start).scalar()\n",
    "    start_date_temp_dict['max temp'] = max_temp\n",
    "    \n",
    "#Find the min temperature\n",
    "\n",
    "    min_temp = session.query(func.min(measurement.tobs)).\\\n",
    "        filter(measurement.date >= start).scalar()\n",
    "    start_date_temp_dict['min temp'] = min_temp\n",
    "\n",
    "#Find the avg temperature\n",
    "\n",
    "    avg_temp = session.query(func.avg(measurement.tobs)).\\\n",
    "        filter(measurement.date >= start).scalar() \n",
    "    start_date_temp_dict['avg temp'] = avg_temp\n",
    "    start_date_temp_results.append(start_date_temp_dict)\n",
    "\n",
    "    return jsonify(start_date_temp_results)"
   ]
  },
  {
   "cell_type": "code",
   "execution_count": 9,
   "id": "238e663d",
   "metadata": {},
   "outputs": [
    {
     "name": "stdout",
     "output_type": "stream",
     "text": [
      " * Serving Flask app \"__main__\" (lazy loading)\n",
      " * Environment: production\n",
      "\u001b[31m   WARNING: This is a development server. Do not use it in a production deployment.\u001b[0m\n",
      "\u001b[2m   Use a production WSGI server instead.\u001b[0m\n",
      " * Debug mode: on\n"
     ]
    },
    {
     "name": "stderr",
     "output_type": "stream",
     "text": [
      " * Restarting with watchdog (windowsapi)\n"
     ]
    },
    {
     "ename": "SystemExit",
     "evalue": "1",
     "output_type": "error",
     "traceback": [
      "An exception has occurred, use %tb to see the full traceback.\n",
      "\u001b[1;31mSystemExit\u001b[0m\u001b[1;31m:\u001b[0m 1\n"
     ]
    },
    {
     "name": "stderr",
     "output_type": "stream",
     "text": [
      "C:\\Users\\vsosa\\anaconda3\\lib\\site-packages\\IPython\\core\\interactiveshell.py:3465: UserWarning: To exit: use 'exit', 'quit', or Ctrl-D.\n",
      "  warn(\"To exit: use 'exit', 'quit', or Ctrl-D.\", stacklevel=1)\n"
     ]
    }
   ],
   "source": [
    "@app.route('/api/v1.0/<start>/<end>')\n",
    "def start_and_end(start, end):\n",
    "    \"\"\"Jsonify temperature data for a between two date.\"\"\"\n",
    "    session = Session(engine)\n",
    "    \n",
    "#Temp dictionaries and results to jsonify\n",
    "\n",
    "    start_date_end_date_temp_results = []\n",
    "    start_date_end_date_temp_dict = {}\n",
    "    \n",
    "#Find the max temperature\n",
    "\n",
    "    max_temp = session.query(func.max(measurement.tobs)).\\\n",
    "        filter(measurement.date >= start).\\\n",
    "         filter(measurement.date <= end).scalar()\n",
    "    start_date_end_date_temp_dict['max temp'] = max_temp\n",
    "    \n",
    "#Find the min temperature\n",
    "\n",
    "    min_temp = session.query(func.min(measurement.tobs)).\\\n",
    "        filter(measurement.date >= start).\\\n",
    "         filter(measurement.date <= end).scalar()\n",
    "    start_date_end_date_temp_dict['min temp'] = min_temp\n",
    "    \n",
    "#Find the avg temperature\n",
    "\n",
    "    avg_temp = session.query(func.avg(measurement.tobs)).\\\n",
    "        filter(measurement.date >= start).\\\n",
    "         filter(measurement.date <= end).scalar()\n",
    "    start_date_end_date_temp_dict['avg temp'] = avg_temp\n",
    "\n",
    "    start_date_end_date_temp_results.append(start_date_end_date_temp_dict)\n",
    "    return jsonify(start_date_end_date_temp_results)\n",
    "\n",
    "if __name__ == \"__main__\":\n",
    "    app.run(debug=True)"
   ]
  },
  {
   "cell_type": "code",
   "execution_count": null,
   "id": "3d08e3a1",
   "metadata": {},
   "outputs": [],
   "source": []
  }
 ],
 "metadata": {
  "kernelspec": {
   "display_name": "Python 3 (ipykernel)",
   "language": "python",
   "name": "python3"
  },
  "language_info": {
   "codemirror_mode": {
    "name": "ipython",
    "version": 3
   },
   "file_extension": ".py",
   "mimetype": "text/x-python",
   "name": "python",
   "nbconvert_exporter": "python",
   "pygments_lexer": "ipython3",
   "version": "3.9.13"
  }
 },
 "nbformat": 4,
 "nbformat_minor": 5
}
